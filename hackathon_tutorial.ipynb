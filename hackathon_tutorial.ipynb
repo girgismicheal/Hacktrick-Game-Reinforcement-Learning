{
 "cells": [
  {
   "cell_type": "markdown",
   "metadata": {
    "id": "DCLyD1xhb9X2"
   },
   "source": [
    "# How to test and visualise your agents.\n",
    "\n",
    "---\n",
    "\n"
   ]
  },
  {
   "cell_type": "markdown",
   "metadata": {
    "id": "XCClqutxV1Xq"
   },
   "source": [
    "## Imports\n",
    "\n",
    "\n",
    "\n"
   ]
  },
  {
   "cell_type": "code",
   "execution_count": null,
   "metadata": {
    "id": "jKsFs6UfDWJG"
   },
   "outputs": [],
   "source": [
    "from hacktrick_ai.src.hacktrick_ai_py.agents.benchmarking import AgentEvaluator, LayoutGenerator\n",
    "from hacktrick_ai.src.hacktrick_ai_py.visualization.state_visualizer import StateVisualizer\n",
    "from hacktrick_ai_py.agents.agent import AgentPair, StayAgent\n",
    "from hacktrick_agent import HacktrickAgent"
   ]
  },
  {
   "cell_type": "markdown",
   "metadata": {
    "id": "IM5MAxKLWEDa"
   },
   "source": [
    "## How to Run\n",
    "\n",
    "1. Set game mode to either single or collaborative.\n",
    "2. Set timesteps (We will be evaluating on 1200 timesteps).\n",
    "3. Set layout name.\n",
    "4. Create a HacktrickAgent instance, it will automatically include your algorith or RL agent if used from the `hacktrick_agent.py` file.\n",
    "5. Call run_agent() and pass the required parameters.\n",
    "6. run_agent() will return the trajectories of the played game.\n",
    "7. Call visualize() and pass the trajectories returned from running the agent to graphically view the game.\n",
    "\n",
    "(basically just run the notebook ;))"
   ]
  },
  {
   "cell_type": "code",
   "execution_count": 2,
   "metadata": {
    "id": "6bJJmpl_EsZU"
   },
   "outputs": [],
   "source": [
    "def run_agent(mode, timesteps, layout_name, hacktrick_agent):\n",
    "  hacktrick_agent.set_mode(mode)\n",
    "  if mode == 'collaborative':\n",
    "    agent0 = hacktrick_agent.agent0\n",
    "    agent1 = hacktrick_agent.agent1\n",
    "    agent = AgentPair(agent0, agent1)\n",
    "  elif mode == 'single':\n",
    "    agent0 = hacktrick_agent.agent0\n",
    "    agent1 = StayAgent()\n",
    "    agent = AgentPair(agent0, agent1)\n",
    "  mdp_gen_params = {\"layout_name\": layout_name}\n",
    "  mdp_fn = LayoutGenerator.mdp_gen_fn_from_dict(mdp_gen_params)\n",
    "  env_params = {\"horizon\": timesteps}\n",
    "  agent_eval = AgentEvaluator(env_params=env_params, mdp_fn=mdp_fn)\n",
    "  trajectories = agent_eval.evaluate_agent_pair(agent, num_games=1)\n",
    "  return trajectories"
   ]
  },
  {
   "cell_type": "code",
   "execution_count": null,
   "metadata": {
    "id": "WGYCS4fsQgk4"
   },
   "outputs": [],
   "source": [
    "# Parameters to be changed\n",
    "\n",
    "mode = 'single'\n",
    "timesteps = 200\n",
    "layout_name = 'leaderboard_single'\n",
    "agent = HacktrickAgent()\n",
    "trajectories = run_agent(mode, timesteps, layout_name, agent)"
   ]
  },
  {
   "cell_type": "code",
   "execution_count": 7,
   "metadata": {
    "id": "CfmIXTEYJc_M"
   },
   "outputs": [],
   "source": [
    "def visualize(trajectories):\n",
    "  img_dir_path = StateVisualizer().display_rendered_trajectory(trajectories, trajectory_idx=0, ipython_display=True)"
   ]
  },
  {
   "cell_type": "code",
   "execution_count": null,
   "metadata": {
    "id": "UFaj9yXPVfuN"
   },
   "outputs": [],
   "source": [
    "visualize(trajectories)"
   ]
  }
 ],
 "metadata": {
  "colab": {
   "collapsed_sections": [],
   "name": "hackathon-tutorial.ipynb",
   "provenance": []
  },
  "kernelspec": {
   "display_name": "Python 3 (ipykernel)",
   "language": "python",
   "name": "python3"
  },
  "language_info": {
   "codemirror_mode": {
    "name": "ipython",
    "version": 3
   },
   "file_extension": ".py",
   "mimetype": "text/x-python",
   "name": "python",
   "nbconvert_exporter": "python",
   "pygments_lexer": "ipython3",
   "version": "3.8.12"
  }
 },
 "nbformat": 4,
 "nbformat_minor": 1
}
